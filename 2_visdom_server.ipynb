{
 "cells": [
  {
   "cell_type": "code",
   "execution_count": 1,
   "metadata": {},
   "outputs": [],
   "source": [
    "# Copyright © 2021 LEADERG Inc. All rights reserved. Please keep it private. Publish to internet is not allowed."
   ]
  },
  {
   "cell_type": "code",
   "execution_count": 2,
   "metadata": {},
   "outputs": [],
   "source": [
    "import subprocess\n",
    "import socket\n",
    "import os"
   ]
  },
  {
   "cell_type": "code",
   "execution_count": 3,
   "metadata": {},
   "outputs": [
    {
     "name": "stdout",
     "output_type": "stream",
     "text": [
      "8801 is unused\n"
     ]
    }
   ],
   "source": [
    "def kill_port(port):\n",
    "    \n",
    "    find_port = 'netstat -aon | findstr %s' % port\n",
    "\n",
    "    result = os.popen(find_port)\n",
    "    text = result.read()\n",
    "    print(text)\n",
    "    # 提取pid\n",
    "    text = [i.split(' ') for i in text.split('\\n') if i]\n",
    "    pids = []\n",
    "    for i in text:\n",
    "        pid = [u for u in i if u]\n",
    "        if str(port) in pid[1]:\n",
    "            pids.append(pid[-1])\n",
    "    pids = list(set(pids))\n",
    "\n",
    "    for pid in pids:\n",
    "        find_kill = 'taskkill -f -pid %s' % pid\n",
    "        result = os.popen(find_kill)\n",
    "        print(result.read())\n",
    "\n",
    "def net_is_used(port, ip='127.0.0.1'):\n",
    "        s = socket.socket(socket.AF_INET, socket.SOCK_STREAM)\n",
    "        try:\n",
    "            s.connect((ip, port))\n",
    "            s.shutdown(2)\n",
    "            print('port %d is used' % (port))\n",
    "            return True\n",
    "        except Exception as e:\n",
    "            print('%d is unused' % (port))\n",
    "            return False\n",
    "if net_is_used(8801):\n",
    "    kill_port(8801)"
   ]
  },
  {
   "cell_type": "code",
   "execution_count": null,
   "metadata": {},
   "outputs": [],
   "source": [
    "subprocess.run(\"python -m visdom.server -p 8801\", creationflags=subprocess.CREATE_NEW_CONSOLE)"
   ]
  }
 ],
 "metadata": {
  "kernelspec": {
   "display_name": "Python 3",
   "language": "python",
   "name": "python3"
  },
  "language_info": {
   "codemirror_mode": {
    "name": "ipython",
    "version": 3
   },
   "file_extension": ".py",
   "mimetype": "text/x-python",
   "name": "python",
   "nbconvert_exporter": "python",
   "pygments_lexer": "ipython3",
   "version": "3.7.6"
  }
 },
 "nbformat": 4,
 "nbformat_minor": 4
}
