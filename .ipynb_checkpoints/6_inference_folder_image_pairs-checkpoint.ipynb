{
 "cells": [
  {
   "cell_type": "code",
   "execution_count": null,
   "metadata": {},
   "outputs": [],
   "source": [
    "# Copyright © 2021 LEADERG Inc. All rights reserved. Please keep it private. Publish to internet is not allowed."
   ]
  },
  {
   "cell_type": "code",
   "execution_count": null,
   "metadata": {},
   "outputs": [],
   "source": [
    "import os\n",
    "import webbrowser\n",
    "import src.tools"
   ]
  },
  {
   "cell_type": "code",
   "execution_count": null,
   "metadata": {},
   "outputs": [],
   "source": [
    "# parameter\n",
    "\n",
    "# model/latest_net_G.pth =>　--checkpoints_dir model, --epoch latest\n",
    "# model/20_net_G.pth => --checkpoints_dir model, --epoch 20\n",
    "checkpoints_dir = 'model'\n",
    "epoch = 'latest'\n",
    "\n",
    "#The option 'direction' can be used to swap images in domain A and domain B.\n",
    "direction = 'BtoA'\n",
    "\n",
    "# test folder = 'data/A/test' => dataroot='data/A',  phase='test'\n",
    "dataroot = 'data/'\n",
    "phase = 'test'\n",
    "# how many test images to run\n",
    "num_test = 20\n",
    "\n",
    "# gpu ids: e.g. 0  0,1,2, 0,2. use -1 for CPU \n",
    "gpu_ids = -1"
   ]
  },
  {
   "cell_type": "code",
   "execution_count": null,
   "metadata": {},
   "outputs": [],
   "source": [
    "src.tools.Delete_ipynb_checkpoints('data/')"
   ]
  },
  {
   "cell_type": "code",
   "execution_count": null,
   "metadata": {},
   "outputs": [],
   "source": [
    "%matplotlib inline"
   ]
  },
  {
   "cell_type": "code",
   "execution_count": null,
   "metadata": {},
   "outputs": [],
   "source": [
    "import matplotlib.pyplot as plt\n",
    "plt.rcParams['figure.figsize'] = (5.0, 5.0)"
   ]
  },
  {
   "cell_type": "code",
   "execution_count": null,
   "metadata": {},
   "outputs": [],
   "source": [
    "%run src/test.py --model pix2pix --direction $direction  --checkpoints_dir $checkpoints_dir --epoch $epoch  --dataroot $dataroot --phase $phase --num_test $num_test --gpu_ids $gpu_ids\n",
    "\n",
    "result_html_path = os.path.join('results', phase + '_' + epoch, 'index.html')\n",
    "print(result_html_path)\n",
    "webbrowser.open_new_tab(result_html_path)"
   ]
  },
  {
   "cell_type": "code",
   "execution_count": null,
   "metadata": {},
   "outputs": [],
   "source": []
  }
 ],
 "metadata": {
  "kernelspec": {
   "display_name": "Python 3",
   "language": "python",
   "name": "python3"
  },
  "language_info": {
   "codemirror_mode": {
    "name": "ipython",
    "version": 3
   },
   "file_extension": ".py",
   "mimetype": "text/x-python",
   "name": "python",
   "nbconvert_exporter": "python",
   "pygments_lexer": "ipython3",
   "version": "3.7.6"
  }
 },
 "nbformat": 4,
 "nbformat_minor": 4
}
