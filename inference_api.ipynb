{
 "cells": [
  {
   "cell_type": "code",
   "execution_count": 1,
   "metadata": {},
   "outputs": [],
   "source": [
    "import os\n",
    "import subprocess\n",
    "import src.tools"
   ]
  },
  {
   "cell_type": "code",
   "execution_count": 2,
   "metadata": {},
   "outputs": [],
   "source": [
    "# parameter\n",
    "\n",
    "# model/latest_net_G.pth =>　--checkpoints_dir model,  --epoch latest\n",
    "# model/20_net_G.pth => --checkpoints_dir model, --epoch 20\n",
    "checkpoints_dir = 'model'\n",
    "epoch = 'latest'\n",
    "\n",
    "#The option 'direction' can be used to swap images in domain A and domain B.\n",
    "direction = 'BtoA'\n",
    "\n",
    "# gpu ids: e.g. 0  0,1,2, 0,2. use -1 for CPU \n",
    "gpu_ids = 0\n",
    "\n",
    "port = 8801"
   ]
  },
  {
   "cell_type": "code",
   "execution_count": 3,
   "metadata": {},
   "outputs": [],
   "source": [
    "src.tools.Delete_ipynb_checkpoints('data/')"
   ]
  },
  {
   "cell_type": "code",
   "execution_count": 4,
   "metadata": {},
   "outputs": [],
   "source": [
    "arg = \"--port %d --model test --phase test --checkpoints_dir %s --epoch %s --netG unet_256 --direction %s --dataset_mode single --norm batch --num_test 1  --gpu_ids %d\" %(port, checkpoints_dir, epoch, direction, gpu_ids)"
   ]
  },
  {
   "cell_type": "code",
   "execution_count": 5,
   "metadata": {},
   "outputs": [],
   "source": [
    "cmd = \"python src/AIOHTTP-main.py \" + arg"
   ]
  },
  {
   "cell_type": "code",
   "execution_count": null,
   "metadata": {},
   "outputs": [],
   "source": [
    "subprocess.run(cmd, creationflags = subprocess.CREATE_NEW_CONSOLE)"
   ]
  },
  {
   "cell_type": "code",
   "execution_count": null,
   "metadata": {},
   "outputs": [],
   "source": []
  }
 ],
 "metadata": {
  "kernelspec": {
   "display_name": "Python 3",
   "language": "python",
   "name": "python3"
  },
  "language_info": {
   "codemirror_mode": {
    "name": "ipython",
    "version": 3
   },
   "file_extension": ".py",
   "mimetype": "text/x-python",
   "name": "python",
   "nbconvert_exporter": "python",
   "pygments_lexer": "ipython3",
   "version": "3.7.6"
  }
 },
 "nbformat": 4,
 "nbformat_minor": 4
}
