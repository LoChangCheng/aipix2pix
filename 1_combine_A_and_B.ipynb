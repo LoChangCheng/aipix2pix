{
 "cells": [
  {
   "cell_type": "code",
   "execution_count": 1,
   "metadata": {},
   "outputs": [],
   "source": [
    "# Copyright © 2021 LEADERG Inc. All rights reserved. Please keep it private. Publish to internet is not allowed."
   ]
  },
  {
   "cell_type": "code",
   "execution_count": 2,
   "metadata": {},
   "outputs": [],
   "source": [
    "# parameter\n",
    "fold_A = 'data/A'\n",
    "fold_B = 'data/B'\n",
    "fold_AB ='data'"
   ]
  },
  {
   "cell_type": "code",
   "execution_count": 3,
   "metadata": {},
   "outputs": [
    {
     "name": "stdout",
     "output_type": "stream",
     "text": [
      "[fold_A] =  data/A\n",
      "[fold_B] =  data/B\n",
      "[fold_AB] =  data\n",
      "[num_imgs] =  1000000\n",
      "[use_AB] =  False\n",
      "[no_multiprocessing] =  False\n",
      "split = test, use 27/27 images\n",
      "split = test, number of images = 27\n",
      "split = train, use 1096/1096 images\n",
      "split = train, number of images = 1096\n",
      "split = val, use 1098/1098 images\n",
      "split = val, number of images = 1098\n"
     ]
    }
   ],
   "source": [
    "%run src/datasets/combine_A_and_B.py --fold_A $fold_A --fold_B $fold_B --fold_AB $fold_AB"
   ]
  }
 ],
 "metadata": {
  "kernelspec": {
   "display_name": "Python 3",
   "language": "python",
   "name": "python3"
  },
  "language_info": {
   "codemirror_mode": {
    "name": "ipython",
    "version": 3
   },
   "file_extension": ".py",
   "mimetype": "text/x-python",
   "name": "python",
   "nbconvert_exporter": "python",
   "pygments_lexer": "ipython3",
   "version": "3.7.6"
  }
 },
 "nbformat": 4,
 "nbformat_minor": 4
}
